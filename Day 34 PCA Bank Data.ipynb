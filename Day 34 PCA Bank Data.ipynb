{
 "cells": [
  {
   "cell_type": "code",
   "execution_count": 64,
   "metadata": {
    "metadata": {}
   },
   "outputs": [],
   "source": [
    "'''Dimensionality Reduction (Bank Data)''' \n",
    "\n",
    "# Import Libraries\n",
    "\n",
    "import numpy as np\n",
    "import pandas as pd\n",
    "import matplotlib.pyplot as plt\n",
    "import os\n",
    "from sklearn.metrics import accuracy_score\n",
    "from sklearn.metrics import confusion_matrix"
   ]
  },
  {
   "cell_type": "code",
   "execution_count": 65,
   "metadata": {
    "metadata": {}
   },
   "outputs": [
    {
     "data": {
      "text/plain": [
       "'C:\\\\Users\\\\HP\\\\Downloads\\\\Batch 93 Day34'"
      ]
     },
     "execution_count": 65,
     "metadata": {},
     "output_type": "execute_result"
    }
   ],
   "source": [
    "os.getcwd()"
   ]
  },
  {
   "cell_type": "code",
   "execution_count": 66,
   "metadata": {
    "metadata": {}
   },
   "outputs": [],
   "source": [
    "# Load Data Set\n",
    "\n",
    "os.chdir('C:\\\\Users\\\\HP\\\\Downloads\\\\Batch 93 Day34\\\\')"
   ]
  },
  {
   "cell_type": "code",
   "execution_count": 67,
   "metadata": {
    "metadata": {}
   },
   "outputs": [
    {
     "name": "stdout",
     "output_type": "stream",
     "text": [
      "     Index  Interest  Credit  Gender  Previous  Duration Churn\n",
      "0        0   17546.0       1     0.0       0.0      48.0    NO\n",
      "1        1   30085.1       3     1.0       1.0      40.0   YES\n",
      "2        2   16575.4       0     0.0       1.0      51.0   YES\n",
      "3        3   20375.4       3     0.0       0.0      23.0   YES\n",
      "4        4   50576.3       0     0.0       0.0      57.0    NO\n",
      "..     ...       ...     ...     ...       ...       ...   ...\n",
      "595    595   47025.0       2     0.0       1.0       NaN   YES\n",
      "596    596    9672.3       0     0.0       1.0       NaN   YES\n",
      "597    597   15976.3       0     0.0       1.0       NaN    NO\n",
      "598    598   14711.8       0     1.0       0.0      29.0    NO\n",
      "599    599   26671.6       0     1.0       1.0      38.0   YES\n",
      "\n",
      "[600 rows x 7 columns]\n"
     ]
    }
   ],
   "source": [
    "df=pd.read_csv('Bank Data Dimension Reduction.csv')\n",
    "print(df)"
   ]
  },
  {
   "cell_type": "code",
   "execution_count": 68,
   "metadata": {
    "metadata": {}
   },
   "outputs": [
    {
     "name": "stdout",
     "output_type": "stream",
     "text": [
      "Index        0\n",
      "Interest    68\n",
      "Credit       0\n",
      "Gender      21\n",
      "Previous     7\n",
      "Duration    70\n",
      "Churn        0\n",
      "dtype: int64\n"
     ]
    }
   ],
   "source": [
    "# Data Check\n",
    "\n",
    "print(df.isna().sum())"
   ]
  },
  {
   "cell_type": "code",
   "execution_count": 69,
   "metadata": {
    "metadata": {}
   },
   "outputs": [
    {
     "name": "stdout",
     "output_type": "stream",
     "text": [
      "Index       600\n",
      "Interest    532\n",
      "Credit      600\n",
      "Gender      579\n",
      "Previous    593\n",
      "Duration    530\n",
      "Churn       600\n",
      "dtype: int64\n"
     ]
    }
   ],
   "source": [
    "print(df.notna().sum())"
   ]
  },
  {
   "cell_type": "code",
   "execution_count": 70,
   "metadata": {
    "metadata": {}
   },
   "outputs": [
    {
     "name": "stdout",
     "output_type": "stream",
     "text": [
      "Index         int64\n",
      "Interest    float64\n",
      "Credit        int64\n",
      "Gender      float64\n",
      "Previous    float64\n",
      "Duration    float64\n",
      "Churn        object\n",
      "dtype: object\n"
     ]
    }
   ],
   "source": [
    "# Data Type\n",
    "\n",
    "print(df.dtypes)"
   ]
  },
  {
   "cell_type": "code",
   "execution_count": 71,
   "metadata": {
    "metadata": {}
   },
   "outputs": [
    {
     "name": "stdout",
     "output_type": "stream",
     "text": [
      "Gender\n",
      "0.0    290\n",
      "1.0    289\n",
      "dtype: int64\n"
     ]
    }
   ],
   "source": [
    "# Fill missing Value Gender - Fill with Maximum Repeated value (Fill with 0)\n",
    "\n",
    "print(df.groupby('Gender').size())"
   ]
  },
  {
   "cell_type": "code",
   "execution_count": 72,
   "metadata": {
    "metadata": {}
   },
   "outputs": [
    {
     "name": "stdout",
     "output_type": "stream",
     "text": [
      "\n",
      "Gender\n",
      "0.0    311\n",
      "1.0    289\n",
      "dtype: int64\n"
     ]
    }
   ],
   "source": [
    "df['Gender']=df['Gender'].fillna(0)\n",
    "print()\n",
    "print(df.groupby('Gender').size())"
   ]
  },
  {
   "cell_type": "code",
   "execution_count": 73,
   "metadata": {
    "metadata": {}
   },
   "outputs": [
    {
     "name": "stdout",
     "output_type": "stream",
     "text": [
      "Previous\n",
      "0.0    302\n",
      "1.0    291\n",
      "dtype: int64\n"
     ]
    }
   ],
   "source": [
    "# Fill missing Value Previous\n",
    "\n",
    "print(df.groupby('Previous').size())\n"
   ]
  },
  {
   "cell_type": "code",
   "execution_count": 74,
   "metadata": {
    "metadata": {}
   },
   "outputs": [],
   "source": [
    "df['Previous']=df['Previous'].fillna(0)"
   ]
  },
  {
   "cell_type": "code",
   "execution_count": 75,
   "metadata": {
    "metadata": {}
   },
   "outputs": [
    {
     "name": "stdout",
     "output_type": "stream",
     "text": [
      "Previous\n",
      "0.0    309\n",
      "1.0    291\n",
      "dtype: int64\n"
     ]
    }
   ],
   "source": [
    "print(df.groupby('Previous').size())\n"
   ]
  },
  {
   "cell_type": "code",
   "execution_count": 76,
   "metadata": {
    "metadata": {}
   },
   "outputs": [
    {
     "name": "stdout",
     "output_type": "stream",
     "text": [
      "Index        0\n",
      "Interest    68\n",
      "Credit       0\n",
      "Gender       0\n",
      "Previous     0\n",
      "Duration    70\n",
      "Churn        0\n",
      "dtype: int64\n"
     ]
    }
   ],
   "source": [
    "print(df.isna().sum())"
   ]
  },
  {
   "cell_type": "code",
   "execution_count": 77,
   "metadata": {
    "metadata": {}
   },
   "outputs": [
    {
     "name": "stdout",
     "output_type": "stream",
     "text": [
      "Index        0\n",
      "Interest    68\n",
      "Credit       0\n",
      "Gender       0\n",
      "Previous     0\n",
      "Duration    70\n",
      "Churn        0\n",
      "dtype: int64\n"
     ]
    }
   ],
   "source": [
    "# Fill missing Value Interest Rate\n",
    "\n",
    "print(df.isna().sum())"
   ]
  },
  {
   "cell_type": "code",
   "execution_count": 78,
   "metadata": {
    "metadata": {}
   },
   "outputs": [
    {
     "data": {
      "text/plain": [
       "27630.171616541356"
      ]
     },
     "execution_count": 78,
     "metadata": {},
     "output_type": "execute_result"
    }
   ],
   "source": [
    "df['Interest'].mean()"
   ]
  },
  {
   "cell_type": "code",
   "execution_count": 79,
   "metadata": {
    "metadata": {}
   },
   "outputs": [
    {
     "name": "stdout",
     "output_type": "stream",
     "text": [
      "\n",
      "Index        0\n",
      "Interest     0\n",
      "Credit       0\n",
      "Gender       0\n",
      "Previous     0\n",
      "Duration    70\n",
      "Churn        0\n",
      "dtype: int64\n"
     ]
    }
   ],
   "source": [
    "df['Interest'].fillna(df['Interest'].mean(),inplace=True)\n",
    "print()\n",
    "print(df.isna().sum())"
   ]
  },
  {
   "cell_type": "code",
   "execution_count": 80,
   "metadata": {
    "metadata": {}
   },
   "outputs": [
    {
     "name": "stdout",
     "output_type": "stream",
     "text": [
      "Index        0\n",
      "Interest     0\n",
      "Credit       0\n",
      "Gender       0\n",
      "Previous     0\n",
      "Duration    70\n",
      "Churn        0\n",
      "dtype: int64\n"
     ]
    }
   ],
   "source": [
    "# Fill missing Value Duration\n",
    "\n",
    "print(df.isna().sum())"
   ]
  },
  {
   "cell_type": "code",
   "execution_count": 81,
   "metadata": {
    "metadata": {}
   },
   "outputs": [
    {
     "name": "stdout",
     "output_type": "stream",
     "text": [
      "\n",
      "Index       0\n",
      "Interest    0\n",
      "Credit      0\n",
      "Gender      0\n",
      "Previous    0\n",
      "Duration    0\n",
      "Churn       0\n",
      "dtype: int64\n"
     ]
    }
   ],
   "source": [
    "df['Duration'].fillna(df['Duration'].median(),inplace=True)\n",
    "print()\n",
    "print(df.isna().sum())"
   ]
  },
  {
   "cell_type": "code",
   "execution_count": 82,
   "metadata": {
    "metadata": {}
   },
   "outputs": [
    {
     "name": "stdout",
     "output_type": "stream",
     "text": [
      "Index         int64\n",
      "Interest    float64\n",
      "Credit        int64\n",
      "Gender      float64\n",
      "Previous    float64\n",
      "Duration    float64\n",
      "Churn        object\n",
      "dtype: object\n"
     ]
    }
   ],
   "source": [
    "# Convert Gender to Catgory\n",
    "\n",
    "print(df.dtypes)"
   ]
  },
  {
   "cell_type": "code",
   "execution_count": 83,
   "metadata": {
    "metadata": {}
   },
   "outputs": [
    {
     "name": "stdout",
     "output_type": "stream",
     "text": [
      "Index         int64\n",
      "Interest    float64\n",
      "Credit        int64\n",
      "Gender      float64\n",
      "Previous    float64\n",
      "Duration    float64\n",
      "Churn        object\n",
      "dtype: object\n",
      "\n",
      "Index          int64\n",
      "Interest     float64\n",
      "Credit         int64\n",
      "Gender      category\n",
      "Previous     float64\n",
      "Duration     float64\n",
      "Churn         object\n",
      "dtype: object\n"
     ]
    }
   ],
   "source": [
    "print(df.dtypes)\n",
    "df['Gender']=df['Gender'].astype('category')\n",
    "print()\n",
    "print(df.dtypes)"
   ]
  },
  {
   "cell_type": "code",
   "execution_count": 84,
   "metadata": {
    "metadata": {}
   },
   "outputs": [
    {
     "name": "stdout",
     "output_type": "stream",
     "text": [
      "Index          int64\n",
      "Interest     float64\n",
      "Credit         int64\n",
      "Gender      category\n",
      "Previous     float64\n",
      "Duration     float64\n",
      "Churn         object\n",
      "dtype: object\n",
      "**************\n",
      "Index          int64\n",
      "Interest     float64\n",
      "Credit         int64\n",
      "Gender      category\n",
      "Previous    category\n",
      "Duration     float64\n",
      "Churn         object\n",
      "dtype: object\n"
     ]
    }
   ],
   "source": [
    "# Convert Previous from Float to Category\n",
    "\n",
    "print(df.dtypes)\n",
    "df['Previous']=df['Previous'].astype('category')\n",
    "print('**************')\n",
    "print(df.dtypes)"
   ]
  },
  {
   "cell_type": "code",
   "execution_count": 85,
   "metadata": {
    "metadata": {}
   },
   "outputs": [
    {
     "name": "stdout",
     "output_type": "stream",
     "text": [
      "Index          int64\n",
      "Interest     float64\n",
      "Credit         int64\n",
      "Gender      category\n",
      "Previous    category\n",
      "Duration     float64\n",
      "Churn         object\n",
      "dtype: object\n"
     ]
    }
   ],
   "source": [
    "# Convert Churn to Category and Label Encoding\n",
    "\n",
    "print(df.dtypes)"
   ]
  },
  {
   "cell_type": "code",
   "execution_count": 86,
   "metadata": {
    "metadata": {}
   },
   "outputs": [
    {
     "name": "stdout",
     "output_type": "stream",
     "text": [
      "Index          int64\n",
      "Interest     float64\n",
      "Credit         int64\n",
      "Gender      category\n",
      "Previous    category\n",
      "Duration     float64\n",
      "Churn       category\n",
      "dtype: object\n"
     ]
    }
   ],
   "source": [
    "df['Churn']=df['Churn'].astype('category')\n",
    "print(df.dtypes)"
   ]
  },
  {
   "cell_type": "code",
   "execution_count": 87,
   "metadata": {
    "metadata": {}
   },
   "outputs": [
    {
     "name": "stdout",
     "output_type": "stream",
     "text": [
      "***********\n",
      "Index          int64\n",
      "Interest     float64\n",
      "Credit         int64\n",
      "Gender      category\n",
      "Previous    category\n",
      "Duration     float64\n",
      "Churn           int8\n",
      "dtype: object\n"
     ]
    }
   ],
   "source": [
    "df['Churn']=df['Churn'].cat.codes\n",
    "print('***********')\n",
    "print(df.dtypes)"
   ]
  },
  {
   "cell_type": "code",
   "execution_count": 88,
   "metadata": {
    "metadata": {}
   },
   "outputs": [
    {
     "data": {
      "text/html": [
       "<div>\n",
       "<style scoped>\n",
       "    .dataframe tbody tr th:only-of-type {\n",
       "        vertical-align: middle;\n",
       "    }\n",
       "\n",
       "    .dataframe tbody tr th {\n",
       "        vertical-align: top;\n",
       "    }\n",
       "\n",
       "    .dataframe thead th {\n",
       "        text-align: right;\n",
       "    }\n",
       "</style>\n",
       "<table border=\"1\" class=\"dataframe\">\n",
       "  <thead>\n",
       "    <tr style=\"text-align: right;\">\n",
       "      <th></th>\n",
       "      <th>Index</th>\n",
       "      <th>Interest</th>\n",
       "      <th>Credit</th>\n",
       "      <th>Gender</th>\n",
       "      <th>Previous</th>\n",
       "      <th>Duration</th>\n",
       "      <th>Churn</th>\n",
       "    </tr>\n",
       "  </thead>\n",
       "  <tbody>\n",
       "    <tr>\n",
       "      <th>0</th>\n",
       "      <td>0</td>\n",
       "      <td>17546.0</td>\n",
       "      <td>1</td>\n",
       "      <td>0.0</td>\n",
       "      <td>0.0</td>\n",
       "      <td>48.0</td>\n",
       "      <td>0</td>\n",
       "    </tr>\n",
       "    <tr>\n",
       "      <th>1</th>\n",
       "      <td>1</td>\n",
       "      <td>30085.1</td>\n",
       "      <td>3</td>\n",
       "      <td>1.0</td>\n",
       "      <td>1.0</td>\n",
       "      <td>40.0</td>\n",
       "      <td>1</td>\n",
       "    </tr>\n",
       "    <tr>\n",
       "      <th>2</th>\n",
       "      <td>2</td>\n",
       "      <td>16575.4</td>\n",
       "      <td>0</td>\n",
       "      <td>0.0</td>\n",
       "      <td>1.0</td>\n",
       "      <td>51.0</td>\n",
       "      <td>1</td>\n",
       "    </tr>\n",
       "    <tr>\n",
       "      <th>3</th>\n",
       "      <td>3</td>\n",
       "      <td>20375.4</td>\n",
       "      <td>3</td>\n",
       "      <td>0.0</td>\n",
       "      <td>0.0</td>\n",
       "      <td>23.0</td>\n",
       "      <td>1</td>\n",
       "    </tr>\n",
       "    <tr>\n",
       "      <th>4</th>\n",
       "      <td>4</td>\n",
       "      <td>50576.3</td>\n",
       "      <td>0</td>\n",
       "      <td>0.0</td>\n",
       "      <td>0.0</td>\n",
       "      <td>57.0</td>\n",
       "      <td>0</td>\n",
       "    </tr>\n",
       "    <tr>\n",
       "      <th>...</th>\n",
       "      <td>...</td>\n",
       "      <td>...</td>\n",
       "      <td>...</td>\n",
       "      <td>...</td>\n",
       "      <td>...</td>\n",
       "      <td>...</td>\n",
       "      <td>...</td>\n",
       "    </tr>\n",
       "    <tr>\n",
       "      <th>595</th>\n",
       "      <td>595</td>\n",
       "      <td>47025.0</td>\n",
       "      <td>2</td>\n",
       "      <td>0.0</td>\n",
       "      <td>1.0</td>\n",
       "      <td>43.0</td>\n",
       "      <td>1</td>\n",
       "    </tr>\n",
       "    <tr>\n",
       "      <th>596</th>\n",
       "      <td>596</td>\n",
       "      <td>9672.3</td>\n",
       "      <td>0</td>\n",
       "      <td>0.0</td>\n",
       "      <td>1.0</td>\n",
       "      <td>43.0</td>\n",
       "      <td>1</td>\n",
       "    </tr>\n",
       "    <tr>\n",
       "      <th>597</th>\n",
       "      <td>597</td>\n",
       "      <td>15976.3</td>\n",
       "      <td>0</td>\n",
       "      <td>0.0</td>\n",
       "      <td>1.0</td>\n",
       "      <td>43.0</td>\n",
       "      <td>0</td>\n",
       "    </tr>\n",
       "    <tr>\n",
       "      <th>598</th>\n",
       "      <td>598</td>\n",
       "      <td>14711.8</td>\n",
       "      <td>0</td>\n",
       "      <td>1.0</td>\n",
       "      <td>0.0</td>\n",
       "      <td>29.0</td>\n",
       "      <td>0</td>\n",
       "    </tr>\n",
       "    <tr>\n",
       "      <th>599</th>\n",
       "      <td>599</td>\n",
       "      <td>26671.6</td>\n",
       "      <td>0</td>\n",
       "      <td>1.0</td>\n",
       "      <td>1.0</td>\n",
       "      <td>38.0</td>\n",
       "      <td>1</td>\n",
       "    </tr>\n",
       "  </tbody>\n",
       "</table>\n",
       "<p>600 rows × 7 columns</p>\n",
       "</div>"
      ],
      "text/plain": [
       "     Index  Interest  Credit Gender Previous  Duration  Churn\n",
       "0        0   17546.0       1    0.0      0.0      48.0      0\n",
       "1        1   30085.1       3    1.0      1.0      40.0      1\n",
       "2        2   16575.4       0    0.0      1.0      51.0      1\n",
       "3        3   20375.4       3    0.0      0.0      23.0      1\n",
       "4        4   50576.3       0    0.0      0.0      57.0      0\n",
       "..     ...       ...     ...    ...      ...       ...    ...\n",
       "595    595   47025.0       2    0.0      1.0      43.0      1\n",
       "596    596    9672.3       0    0.0      1.0      43.0      1\n",
       "597    597   15976.3       0    0.0      1.0      43.0      0\n",
       "598    598   14711.8       0    1.0      0.0      29.0      0\n",
       "599    599   26671.6       0    1.0      1.0      38.0      1\n",
       "\n",
       "[600 rows x 7 columns]"
      ]
     },
     "execution_count": 88,
     "metadata": {},
     "output_type": "execute_result"
    }
   ],
   "source": [
    "df"
   ]
  },
  {
   "cell_type": "code",
   "execution_count": 89,
   "metadata": {
    "metadata": {}
   },
   "outputs": [
    {
     "name": "stdout",
     "output_type": "stream",
     "text": [
      "[[1.75460e+04 1.00000e+00 0.00000e+00 0.00000e+00 4.80000e+01]\n",
      " [3.00851e+04 3.00000e+00 1.00000e+00 1.00000e+00 4.00000e+01]\n",
      " [1.65754e+04 0.00000e+00 0.00000e+00 1.00000e+00 5.10000e+01]\n",
      " ...\n",
      " [1.59763e+04 0.00000e+00 0.00000e+00 1.00000e+00 4.30000e+01]\n",
      " [1.47118e+04 0.00000e+00 1.00000e+00 0.00000e+00 2.90000e+01]\n",
      " [2.66716e+04 0.00000e+00 1.00000e+00 1.00000e+00 3.80000e+01]]\n"
     ]
    }
   ],
   "source": [
    "# Create X Variable\n",
    "\n",
    "x=df.iloc[:,1:6].values\n",
    "print(x)"
   ]
  },
  {
   "cell_type": "code",
   "execution_count": 90,
   "metadata": {
    "metadata": {}
   },
   "outputs": [
    {
     "name": "stdout",
     "output_type": "stream",
     "text": [
      "[0 1 1 1 0 1 1 1 0 1 1 1 1 1 1 1 0 0 0 1 0 1 1 1 1 1 1 1 1 1 1 0 1 0 1 1 1\n",
      " 1 1 1 1 1 0 1 1 1 1 1 1 0 0 0 1 1 1 0 1 1 1 1 1 1 1 0 1 1 1 1 1 1 1 1 1 0\n",
      " 1 0 1 1 1 0 1 1 1 1 1 1 1 1 0 1 1 1 1 1 0 1 0 1 1 1 1 1 1 1 1 1 0 1 1 1 1\n",
      " 0 1 1 1 1 0 1 0 1 0 1 0 1 0 1 1 1 1 1 1 1 1 1 1 1 1 1 1 1 1 1 0 1 1 0 1 1\n",
      " 0 1 1 1 0 1 0 1 1 1 1 1 1 0 1 1 0 1 1 0 1 1 1 1 1 1 1 1 1 1 0 1 1 1 1 1 0\n",
      " 1 0 1 1 1 1 0 1 1 1 0 1 1 1 1 1 1 1 1 1 1 1 1 1 0 0 1 1 1 1 1 1 1 0 1 0 1\n",
      " 1 1 1 1 1 1 1 0 1 1 1 1 0 1 1 1 0 1 0 1 1 1 0 1 0 1 1 1 1 1 1 0 1 1 1 1 1\n",
      " 0 1 1 1 1 0 0 1 1 1 1 1 1 1 1 1 1 1 1 0 1 0 1 0 1 1 0 1 1 0 1 1 0 1 1 0 1\n",
      " 1 0 1 1 1 0 0 1 1 1 1 1 1 1 1 1 1 1 0 1 1 1 0 1 1 0 0 1 1 1 0 1 0 1 1 1 0\n",
      " 1 1 0 0 0 1 1 1 0 1 1 1 1 0 0 0 1 1 1 1 1 1 1 1 1 1 0 1 1 1 1 0 0 1 1 1 0\n",
      " 1 1 0 1 1 1 0 1 1 1 1 1 1 1 1 1 1 0 1 0 1 1 0 0 0 0 0 1 1 0 1 0 1 0 1 1 1\n",
      " 1 0 0 1 1 1 1 1 1 0 0 0 1 1 0 1 1 1 1 0 0 1 1 0 1 1 1 0 1 0 0 1 1 0 1 1 1\n",
      " 1 1 1 1 0 1 0 0 1 1 1 1 1 1 1 1 1 0 1 1 1 1 1 1 1 1 1 1 0 1 1 1 1 1 1 1 1\n",
      " 1 1 0 1 1 0 1 0 0 0 1 0 1 1 0 1 1 1 1 0 1 0 1 1 1 0 1 1 1 0 1 1 1 0 1 0 0\n",
      " 1 1 1 1 1 0 1 1 0 1 1 1 1 0 1 1 1 1 1 1 1 1 0 1 1 0 1 1 0 1 1 1 1 0 1 0 1\n",
      " 1 1 1 1 1 1 1 1 1 1 0 1 1 1 1 1 0 1 1 1 1 1 0 1 0 0 1 0 1 1 1 1 0 1 1 0 1\n",
      " 1 1 1 1 1 0 0 1]\n"
     ]
    }
   ],
   "source": [
    "# Create Y Variale\n",
    "\n",
    "y=df.iloc[:,6].values\n",
    "print(y)"
   ]
  },
  {
   "cell_type": "code",
   "execution_count": 91,
   "metadata": {
    "metadata": {}
   },
   "outputs": [
    {
     "name": "stdout",
     "output_type": "stream",
     "text": [
      "[[-0.83481117 -0.01104933 -0.96398156 -0.97043679  0.39357468]\n",
      " [ 0.20322955  1.88312118  1.03736424  1.03046381 -0.19900953]\n",
      " [-0.91516162 -0.95813458 -0.96398156  1.03046381  0.61579376]\n",
      " ...\n",
      " [-0.9647577  -0.95813458 -0.96398156  1.03046381  0.02320955]\n",
      " [-1.06943845 -0.95813458  1.03736424 -0.97043679 -1.01381282]\n",
      " [-0.07935469 -0.95813458  1.03736424  1.03046381 -0.34715558]]\n"
     ]
    }
   ],
   "source": [
    "# Standardization of X variable (Independent)\n",
    "from sklearn.preprocessing import StandardScaler\n",
    "sc_x=StandardScaler()\n",
    "x=sc_x.fit_transform(x)\n",
    "print(x)"
   ]
  },
  {
   "cell_type": "code",
   "execution_count": 92,
   "metadata": {
    "metadata": {}
   },
   "outputs": [
    {
     "name": "stdout",
     "output_type": "stream",
     "text": [
      "            0         1         2         3         4\n",
      "0   -0.389348 -1.263066  0.561508 -0.217232 -0.783283\n",
      "1    0.258535  2.122143  0.938872 -0.534113  0.167161\n",
      "2    0.008022 -0.424435 -0.082947  1.681945 -1.053486\n",
      "3   -1.330230 -0.276444  2.208619 -0.862935  0.660123\n",
      "4    1.864882 -1.788824 -0.570752 -0.196370  0.692477\n",
      "..        ...       ...       ...       ...       ...\n",
      "595  1.504013  0.377072  1.179921  0.631916  1.118015\n",
      "596 -0.791650 -0.348038  0.038977  1.813712 -1.039632\n",
      "597 -0.432636 -0.359121 -0.021943  1.753198 -0.670900\n",
      "598 -1.813000 -0.205058 -1.207329 -0.564423 -0.046633\n",
      "599 -0.290127  0.958035 -1.267196  0.749886  0.112675\n",
      "\n",
      "[600 rows x 5 columns]\n"
     ]
    }
   ],
   "source": [
    "# Create PCA with n_components=None\n",
    "\n",
    "from sklearn.decomposition import PCA\n",
    "pca=PCA(n_components=None)\n",
    "PCA_X=pca.fit_transform(x)\n",
    "print(pd.DataFrame(PCA_X))"
   ]
  },
  {
   "cell_type": "code",
   "execution_count": 93,
   "metadata": {
    "metadata": {}
   },
   "outputs": [
    {
     "name": "stdout",
     "output_type": "stream",
     "text": [
      "[0.33943997 0.20168854 0.20083191 0.18998087 0.06805872]\n"
     ]
    }
   ],
   "source": [
    "# PCA Percentage\n",
    "\n",
    "print(pca.explained_variance_ratio_)"
   ]
  },
  {
   "cell_type": "code",
   "execution_count": 94,
   "metadata": {
    "metadata": {}
   },
   "outputs": [
    {
     "name": "stdout",
     "output_type": "stream",
     "text": [
      "            0         1\n",
      "0   -0.389348 -1.263066\n",
      "1    0.258535  2.122143\n",
      "2    0.008022 -0.424435\n",
      "3   -1.330230 -0.276444\n",
      "4    1.864882 -1.788824\n",
      "..        ...       ...\n",
      "595  1.504013  0.377072\n",
      "596 -0.791650 -0.348038\n",
      "597 -0.432636 -0.359121\n",
      "598 -1.813000 -0.205058\n",
      "599 -0.290127  0.958035\n",
      "\n",
      "[600 rows x 2 columns]\n"
     ]
    }
   ],
   "source": [
    "# Create PCA with n_components=2\n",
    "\n",
    "from sklearn.decomposition import PCA\n",
    "pca=PCA(n_components=2)\n",
    "PCA_X=pca.fit_transform(x)\n",
    "print(pd.DataFrame(PCA_X))"
   ]
  },
  {
   "cell_type": "code",
   "execution_count": 95,
   "metadata": {
    "metadata": {}
   },
   "outputs": [
    {
     "name": "stdout",
     "output_type": "stream",
     "text": [
      "[0.33943997 0.20168854]\n"
     ]
    }
   ],
   "source": [
    "# PCA Percentage\n",
    "\n",
    "print(pca.explained_variance_ratio_)"
   ]
  },
  {
   "cell_type": "code",
   "execution_count": 96,
   "metadata": {
    "metadata": {}
   },
   "outputs": [
    {
     "name": "stdout",
     "output_type": "stream",
     "text": [
      "(600, 2)\n",
      "(480, 2)\n",
      "(120, 2)\n"
     ]
    }
   ],
   "source": [
    "# Train Test Split\n",
    "\n",
    "from sklearn.model_selection import train_test_split\n",
    "PCA_X_train,PCA_X_test,y_train,y_test=train_test_split(PCA_X,y,test_size=0.2,random_state=42)\n",
    "print(PCA_X.shape)\n",
    "print(PCA_X_train.shape)\n",
    "print(PCA_X_test.shape)"
   ]
  },
  {
   "cell_type": "code",
   "execution_count": 97,
   "metadata": {
    "metadata": {}
   },
   "outputs": [
    {
     "name": "stdout",
     "output_type": "stream",
     "text": [
      "            0         1\n",
      "0    1.738955 -0.502162\n",
      "1    0.204813  0.417182\n",
      "2   -0.468288  0.944145\n",
      "3   -0.226301 -0.307319\n",
      "4    0.345016  1.734410\n",
      "..        ...       ...\n",
      "475 -2.598207 -0.129107\n",
      "476  1.405671  0.834581\n",
      "477  3.120727 -1.096250\n",
      "478 -1.734504  1.895565\n",
      "479 -0.723088  0.945547\n",
      "\n",
      "[480 rows x 2 columns]\n"
     ]
    }
   ],
   "source": [
    "# Display X Train as Data Frame\n",
    "\n",
    "print(pd.DataFrame(PCA_X_train))"
   ]
  },
  {
   "cell_type": "code",
   "execution_count": 98,
   "metadata": {
    "metadata": {}
   },
   "outputs": [
    {
     "name": "stdout",
     "output_type": "stream",
     "text": [
      "LogisticRegression()\n"
     ]
    }
   ],
   "source": [
    "# Create logistic model PCA applied variables\n",
    "\n",
    "from sklearn.linear_model import LogisticRegression\n",
    "logmodel=LogisticRegression()\n",
    "logmodel=logmodel.fit(PCA_X_train,y_train)\n",
    "print(logmodel)"
   ]
  },
  {
   "cell_type": "code",
   "execution_count": 99,
   "metadata": {
    "metadata": {}
   },
   "outputs": [
    {
     "data": {
      "text/plain": [
       "array([1, 1, 1, 1, 1, 1, 1, 1, 1, 1, 1, 1, 1, 1, 1, 1, 1, 1, 1, 1, 1, 1,\n",
       "       1, 1, 1, 1, 1, 1, 1, 1, 1, 1, 1, 1, 1, 1, 1, 1, 1, 1, 1, 1, 1, 1,\n",
       "       1, 1, 1, 1, 1, 1, 1, 1, 1, 1, 1, 1, 1, 1, 1, 1, 1, 1, 1, 1, 1, 1,\n",
       "       1, 1, 1, 1, 1, 1, 1, 1, 1, 1, 1, 1, 1, 1, 1, 1, 1, 1, 1, 1, 1, 1,\n",
       "       1, 1, 1, 1, 1, 1, 1, 1, 1, 1, 1, 1, 1, 1, 1, 1, 1, 1, 1, 1, 1, 1,\n",
       "       1, 1, 1, 1, 1, 1, 1, 1, 1, 1], dtype=int8)"
      ]
     },
     "execution_count": 99,
     "metadata": {},
     "output_type": "execute_result"
    }
   ],
   "source": [
    "# Prediction \n",
    "\n",
    "y_pred=logmodel.predict(PCA_X_test)\n",
    "y_pred"
   ]
  },
  {
   "cell_type": "code",
   "execution_count": 100,
   "metadata": {
    "metadata": {}
   },
   "outputs": [
    {
     "name": "stdout",
     "output_type": "stream",
     "text": [
      "[[ 0 28]\n",
      " [ 0 92]]\n"
     ]
    }
   ],
   "source": [
    "# Confusion_Matrix\n",
    "\n",
    "from sklearn.metrics import confusion_matrix\n",
    "cm=confusion_matrix(y_test,y_pred)\n",
    "print(cm)"
   ]
  },
  {
   "cell_type": "code",
   "execution_count": 101,
   "metadata": {
    "metadata": {}
   },
   "outputs": [
    {
     "name": "stdout",
     "output_type": "stream",
     "text": [
      "0.7666666666666667\n"
     ]
    }
   ],
   "source": [
    "# Accuracy Score\n",
    "\n",
    "print(accuracy_score(y_test,y_pred))"
   ]
  },
  {
   "cell_type": "code",
   "execution_count": 102,
   "metadata": {
    "metadata": {}
   },
   "outputs": [
    {
     "name": "stdout",
     "output_type": "stream",
     "text": [
      "DecisionTreeClassifier()\n"
     ]
    }
   ],
   "source": [
    "# Create Decision Tree model PCA applied variables\n",
    "\n",
    "from sklearn.tree import DecisionTreeClassifier\n",
    "dt=DecisionTreeClassifier()\n",
    "dt=dt.fit(PCA_X_train,y_train)\n",
    "print(dt)"
   ]
  },
  {
   "cell_type": "code",
   "execution_count": 103,
   "metadata": {
    "metadata": {}
   },
   "outputs": [
    {
     "name": "stdout",
     "output_type": "stream",
     "text": [
      "[1 0 0 0 1 1 0 0 1 1 1 1 1 1 0 1 1 1 1 1 1 1 1 1 1 1 1 1 1 1 1 1 1 1 1 1 1\n",
      " 0 1 0 1 1 1 1 0 0 1 1 1 1 1 1 1 1 1 1 1 0 1 1 1 1 0 0 1 1 1 1 0 0 1 1 0 1\n",
      " 1 1 0 1 0 0 1 1 1 0 1 0 1 0 0 1 0 0 1 1 1 0 1 1 1 0 1 1 1 1 1 1 0 1 1 1 1\n",
      " 1 1 1 1 0 0 1 1 1]\n"
     ]
    }
   ],
   "source": [
    "# Prediction\n",
    "\n",
    "y_pred=dt.predict(PCA_X_test)\n",
    "print(y_pred)"
   ]
  },
  {
   "cell_type": "code",
   "execution_count": 104,
   "metadata": {
    "metadata": {}
   },
   "outputs": [
    {
     "name": "stdout",
     "output_type": "stream",
     "text": [
      "0.6166666666666667\n",
      "[[ 6 22]\n",
      " [24 68]]\n"
     ]
    }
   ],
   "source": [
    "# Confusion_matrix and Accuracy Score\n",
    "\n",
    "print(accuracy_score(y_test,y_pred))\n",
    "from sklearn.metrics import confusion_matrix\n",
    "cm=confusion_matrix(y_test,y_pred)\n",
    "print(cm) "
   ]
  },
  {
   "cell_type": "code",
   "execution_count": 105,
   "metadata": {
    "metadata": {}
   },
   "outputs": [
    {
     "data": {
      "text/plain": [
       "0.6166666666666667"
      ]
     },
     "execution_count": 105,
     "metadata": {},
     "output_type": "execute_result"
    }
   ],
   "source": [
    "(68+6)/120"
   ]
  },
  {
   "cell_type": "code",
   "execution_count": 106,
   "metadata": {
    "metadata": {}
   },
   "outputs": [],
   "source": [
    "# Create model with out PCA\n",
    "\n",
    "from sklearn.model_selection import train_test_split\n",
    "x_train,x_test,y_train,y_test=train_test_split(x,y,test_size=0.2,random_state=42)"
   ]
  },
  {
   "cell_type": "code",
   "execution_count": 107,
   "metadata": {
    "metadata": {}
   },
   "outputs": [
    {
     "data": {
      "text/html": [
       "<div>\n",
       "<style scoped>\n",
       "    .dataframe tbody tr th:only-of-type {\n",
       "        vertical-align: middle;\n",
       "    }\n",
       "\n",
       "    .dataframe tbody tr th {\n",
       "        vertical-align: top;\n",
       "    }\n",
       "\n",
       "    .dataframe thead th {\n",
       "        text-align: right;\n",
       "    }\n",
       "</style>\n",
       "<table border=\"1\" class=\"dataframe\">\n",
       "  <thead>\n",
       "    <tr style=\"text-align: right;\">\n",
       "      <th></th>\n",
       "      <th>0</th>\n",
       "      <th>1</th>\n",
       "      <th>2</th>\n",
       "      <th>3</th>\n",
       "      <th>4</th>\n",
       "    </tr>\n",
       "  </thead>\n",
       "  <tbody>\n",
       "    <tr>\n",
       "      <th>0</th>\n",
       "      <td>1.951560</td>\n",
       "      <td>-0.958135</td>\n",
       "      <td>1.037364</td>\n",
       "      <td>-0.970437</td>\n",
       "      <td>1.134305</td>\n",
       "    </tr>\n",
       "    <tr>\n",
       "      <th>1</th>\n",
       "      <td>-0.282963</td>\n",
       "      <td>0.936036</td>\n",
       "      <td>-0.963982</td>\n",
       "      <td>1.030464</td>\n",
       "      <td>0.023210</td>\n",
       "    </tr>\n",
       "    <tr>\n",
       "      <th>2</th>\n",
       "      <td>-0.559942</td>\n",
       "      <td>-0.958135</td>\n",
       "      <td>1.037364</td>\n",
       "      <td>1.030464</td>\n",
       "      <td>-0.124937</td>\n",
       "    </tr>\n",
       "    <tr>\n",
       "      <th>3</th>\n",
       "      <td>0.000000</td>\n",
       "      <td>-0.958135</td>\n",
       "      <td>-0.963982</td>\n",
       "      <td>1.030464</td>\n",
       "      <td>-0.643448</td>\n",
       "    </tr>\n",
       "    <tr>\n",
       "      <th>4</th>\n",
       "      <td>0.599088</td>\n",
       "      <td>0.936036</td>\n",
       "      <td>1.037364</td>\n",
       "      <td>1.030464</td>\n",
       "      <td>-0.347156</td>\n",
       "    </tr>\n",
       "    <tr>\n",
       "      <th>...</th>\n",
       "      <td>...</td>\n",
       "      <td>...</td>\n",
       "      <td>...</td>\n",
       "      <td>...</td>\n",
       "      <td>...</td>\n",
       "    </tr>\n",
       "    <tr>\n",
       "      <th>475</th>\n",
       "      <td>-1.619880</td>\n",
       "      <td>-0.958135</td>\n",
       "      <td>1.037364</td>\n",
       "      <td>-0.970437</td>\n",
       "      <td>-1.606397</td>\n",
       "    </tr>\n",
       "    <tr>\n",
       "      <th>476</th>\n",
       "      <td>1.573136</td>\n",
       "      <td>-0.958135</td>\n",
       "      <td>1.037364</td>\n",
       "      <td>1.030464</td>\n",
       "      <td>0.467648</td>\n",
       "    </tr>\n",
       "    <tr>\n",
       "      <th>477</th>\n",
       "      <td>2.741595</td>\n",
       "      <td>0.936036</td>\n",
       "      <td>-0.963982</td>\n",
       "      <td>-0.970437</td>\n",
       "      <td>1.800962</td>\n",
       "    </tr>\n",
       "    <tr>\n",
       "      <th>478</th>\n",
       "      <td>-1.315713</td>\n",
       "      <td>0.936036</td>\n",
       "      <td>1.037364</td>\n",
       "      <td>1.030464</td>\n",
       "      <td>-1.458251</td>\n",
       "    </tr>\n",
       "    <tr>\n",
       "      <th>479</th>\n",
       "      <td>-1.004196</td>\n",
       "      <td>-0.958135</td>\n",
       "      <td>1.037364</td>\n",
       "      <td>1.030464</td>\n",
       "      <td>-0.050863</td>\n",
       "    </tr>\n",
       "  </tbody>\n",
       "</table>\n",
       "<p>480 rows × 5 columns</p>\n",
       "</div>"
      ],
      "text/plain": [
       "            0         1         2         3         4\n",
       "0    1.951560 -0.958135  1.037364 -0.970437  1.134305\n",
       "1   -0.282963  0.936036 -0.963982  1.030464  0.023210\n",
       "2   -0.559942 -0.958135  1.037364  1.030464 -0.124937\n",
       "3    0.000000 -0.958135 -0.963982  1.030464 -0.643448\n",
       "4    0.599088  0.936036  1.037364  1.030464 -0.347156\n",
       "..        ...       ...       ...       ...       ...\n",
       "475 -1.619880 -0.958135  1.037364 -0.970437 -1.606397\n",
       "476  1.573136 -0.958135  1.037364  1.030464  0.467648\n",
       "477  2.741595  0.936036 -0.963982 -0.970437  1.800962\n",
       "478 -1.315713  0.936036  1.037364  1.030464 -1.458251\n",
       "479 -1.004196 -0.958135  1.037364  1.030464 -0.050863\n",
       "\n",
       "[480 rows x 5 columns]"
      ]
     },
     "execution_count": 107,
     "metadata": {},
     "output_type": "execute_result"
    }
   ],
   "source": [
    "# Dsiplay x_train as data frame\n",
    "\n",
    "pd.DataFrame(x_train)"
   ]
  },
  {
   "cell_type": "code",
   "execution_count": 108,
   "metadata": {
    "metadata": {}
   },
   "outputs": [
    {
     "name": "stdout",
     "output_type": "stream",
     "text": [
      "LogisticRegression()\n"
     ]
    }
   ],
   "source": [
    "# Create logistic model without PCA\n",
    "\n",
    "from sklearn.linear_model import LogisticRegression\n",
    "logmodelNOPCA=LogisticRegression()\n",
    "logmodelNOPCA=logmodelNOPCA.fit(x_train,y_train)\n",
    "print(logmodelNOPCA)"
   ]
  },
  {
   "cell_type": "code",
   "execution_count": 109,
   "metadata": {
    "metadata": {}
   },
   "outputs": [
    {
     "name": "stdout",
     "output_type": "stream",
     "text": [
      "[1 1 1 1 1 1 1 1 1 1 1 1 1 1 1 1 1 1 1 1 1 1 1 1 1 1 1 1 1 1 1 1 1 1 1 1 1\n",
      " 1 1 1 1 1 1 1 1 1 1 1 1 1 1 1 1 1 1 1 1 1 1 1 1 1 1 1 1 1 1 1 1 1 1 1 1 1\n",
      " 1 1 1 1 1 1 1 1 1 1 1 1 1 1 1 1 1 1 1 1 1 1 1 1 1 1 1 1 1 1 1 1 1 1 1 1 1\n",
      " 1 1 1 1 1 1 1 1 1]\n"
     ]
    }
   ],
   "source": [
    "# Prdiction\n",
    "\n",
    "y_pred=logmodelNOPCA.predict(x_test)\n",
    "print(y_pred)"
   ]
  },
  {
   "cell_type": "code",
   "execution_count": 110,
   "metadata": {
    "metadata": {}
   },
   "outputs": [
    {
     "name": "stdout",
     "output_type": "stream",
     "text": [
      "[[ 0 28]\n",
      " [ 0 92]]\n"
     ]
    }
   ],
   "source": [
    "# Confusion matrix\n",
    "\n",
    "cm=confusion_matrix(y_test,y_pred)\n",
    "print(cm)"
   ]
  },
  {
   "cell_type": "code",
   "execution_count": 111,
   "metadata": {
    "metadata": {}
   },
   "outputs": [
    {
     "name": "stdout",
     "output_type": "stream",
     "text": [
      "0.7666666666666667\n"
     ]
    }
   ],
   "source": [
    "# Accuracy Score\n",
    "print(accuracy_score(y_test,y_pred))"
   ]
  },
  {
   "cell_type": "code",
   "execution_count": 112,
   "metadata": {
    "metadata": {}
   },
   "outputs": [
    {
     "name": "stdout",
     "output_type": "stream",
     "text": [
      "DecisionTreeClassifier()\n"
     ]
    }
   ],
   "source": [
    "# Create Decision Tree without PCA\n",
    "\n",
    "from sklearn.tree import DecisionTreeClassifier\n",
    "dtnopca=DecisionTreeClassifier()\n",
    "dtnopca=dt.fit(x_train,y_train)\n",
    "print(dtnopca)"
   ]
  },
  {
   "cell_type": "code",
   "execution_count": 113,
   "metadata": {
    "metadata": {}
   },
   "outputs": [
    {
     "data": {
      "text/plain": [
       "array([1, 1, 1, 0, 1, 1, 1, 1, 1, 1, 1, 0, 1, 1, 1, 1, 0, 1, 1, 1, 0, 1,\n",
       "       1, 0, 1, 1, 1, 0, 1, 1, 1, 1, 1, 1, 1, 0, 0, 0, 1, 1, 1, 1, 1, 1,\n",
       "       1, 1, 1, 1, 1, 0, 1, 1, 1, 1, 1, 1, 1, 1, 1, 1, 0, 1, 1, 1, 1, 1,\n",
       "       1, 1, 1, 1, 1, 0, 1, 1, 0, 1, 0, 1, 0, 0, 1, 1, 1, 1, 0, 0, 1, 1,\n",
       "       0, 0, 0, 1, 0, 0, 1, 1, 0, 1, 1, 0, 1, 1, 1, 0, 0, 1, 1, 1, 1, 1,\n",
       "       1, 1, 1, 1, 0, 1, 1, 0, 0, 1], dtype=int8)"
      ]
     },
     "execution_count": 113,
     "metadata": {},
     "output_type": "execute_result"
    }
   ],
   "source": [
    "# Prediction \n",
    "\n",
    "y_pred=dtnopca.predict(x_test)\n",
    "y_pred"
   ]
  },
  {
   "cell_type": "code",
   "execution_count": 114,
   "metadata": {
    "metadata": {}
   },
   "outputs": [
    {
     "name": "stdout",
     "output_type": "stream",
     "text": [
      "0.6333333333333333\n",
      "[[ 7 21]\n",
      " [23 69]]\n"
     ]
    }
   ],
   "source": [
    "# Confusion_matrix and Accuracy Score\n",
    "\n",
    "print(accuracy_score(y_test,y_pred))\n",
    "from sklearn.metrics import confusion_matrix\n",
    "cm=confusion_matrix(y_test,y_pred)\n",
    "print(cm)"
   ]
  },
  {
   "cell_type": "code",
   "execution_count": 115,
   "metadata": {
    "metadata": {}
   },
   "outputs": [
    {
     "data": {
      "text/plain": [
       "0.625"
      ]
     },
     "execution_count": 115,
     "metadata": {},
     "output_type": "execute_result"
    }
   ],
   "source": [
    "(4+71)/120"
   ]
  },
  {
   "cell_type": "code",
   "execution_count": 116,
   "metadata": {
    "metadata": {}
   },
   "outputs": [],
   "source": [
    "# OK Prajwal 😄"
   ]
  }
 ],
 "metadata": {
  "kernelspec": {
   "display_name": "base",
   "language": "python",
   "name": "python3"
  },
  "language_info": {
   "codemirror_mode": {
    "name": "ipython",
    "version": 3
   },
   "file_extension": ".py",
   "mimetype": "text/x-python",
   "name": "python",
   "nbconvert_exporter": "python",
   "pygments_lexer": "ipython3",
   "version": "3.11.5"
  }
 },
 "nbformat": 4,
 "nbformat_minor": 2
}
